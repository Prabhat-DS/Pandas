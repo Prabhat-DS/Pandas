{
 "cells": [
  {
   "cell_type": "code",
   "execution_count": 1,
   "id": "c5a030f3",
   "metadata": {},
   "outputs": [],
   "source": [
    "# https://drive.google.com/file/d/1FRnbQqgK6S-mr9StNF5MurSaXhah9uoJ/view?usp=sharing\n",
    "\n",
    "\n",
    "# https://drive.google.com/file/d/11rPJXr-9VoeV2Pi0RSfVehw1tbQOAjLI/view?usp=sharing\n",
    "\n",
    "# https://docs.google.com/spreadsheets/d/1z4EWsGxw0YBQ1-51xZDxYNlB3ngJzg4t/edit?usp=sharing&ouid=118282207943964605599&rtpof=true&sd=true\n",
    "\n",
    "\n",
    "# https://docs.google.com/spreadsheets/d/1z2n8aeFF5GoohQ3KCZw8bKogezpO9l4k/edit?usp=sharing&ouid=118282207943964605599&rtpof=true&sd=true\n",
    "\n",
    "# 1 .Find out there avarage rating on weekly basis keep this in a mind that they take two days of leave\n",
    "# 2 .Total working days for each agents \n",
    "# 3. Total query that you hvae taken \n",
    "# 4. total Feedback that you have received \n",
    "# 5. a agent name who have average rating between 3.5 to 4 \n",
    "# 6 . Agent name who have rating lesss then 3.5 \n",
    "# 7 . agent name who have rating more then 4.5 \n",
    "# 8 . how many feedaback agents have received more then 4.5 average\n",
    "# 9 . average weekly response time for each agent \n",
    "# 10 . average weekely resolution time for each agents \n",
    "# 11 . list of all agents name \n",
    "# 12 . percentage of chat on which they have received a feedback \n",
    "# 13 . Total contributation hour for each and every agents weekly basis \n",
    "# 14. total percentage of active hour for a month "
   ]
  },
  {
   "cell_type": "code",
   "execution_count": 2,
   "id": "60186836",
   "metadata": {},
   "outputs": [],
   "source": [
    "import pandas as pd"
   ]
  },
  {
   "cell_type": "code",
   "execution_count": 3,
   "id": "46561d17",
   "metadata": {},
   "outputs": [],
   "source": [
    "rpt=pd.read_csv(r\"F:\\Data_science\\pandas\\AgentLogingReport.csv\")"
   ]
  },
  {
   "cell_type": "code",
   "execution_count": 4,
   "id": "eecf5be1",
   "metadata": {},
   "outputs": [],
   "source": [
    "prfm=pd.read_csv(r\"F:\\Data_science\\pandas\\AgentPerformance.csv\")"
   ]
  },
  {
   "cell_type": "code",
   "execution_count": 5,
   "id": "2b000eca",
   "metadata": {},
   "outputs": [
    {
     "data": {
      "text/html": [
       "<div>\n",
       "<style scoped>\n",
       "    .dataframe tbody tr th:only-of-type {\n",
       "        vertical-align: middle;\n",
       "    }\n",
       "\n",
       "    .dataframe tbody tr th {\n",
       "        vertical-align: top;\n",
       "    }\n",
       "\n",
       "    .dataframe thead th {\n",
       "        text-align: right;\n",
       "    }\n",
       "</style>\n",
       "<table border=\"1\" class=\"dataframe\">\n",
       "  <thead>\n",
       "    <tr style=\"text-align: right;\">\n",
       "      <th></th>\n",
       "      <th>SL No</th>\n",
       "      <th>Agent</th>\n",
       "      <th>Date</th>\n",
       "      <th>Login_Time</th>\n",
       "      <th>Logout_Time</th>\n",
       "      <th>Duration</th>\n",
       "    </tr>\n",
       "  </thead>\n",
       "  <tbody>\n",
       "    <tr>\n",
       "      <th>0</th>\n",
       "      <td>1</td>\n",
       "      <td>Shivananda Sonwane</td>\n",
       "      <td>30-Jul-22</td>\n",
       "      <td>15:35:29</td>\n",
       "      <td>17:39:39</td>\n",
       "      <td>02:04:10</td>\n",
       "    </tr>\n",
       "    <tr>\n",
       "      <th>1</th>\n",
       "      <td>2</td>\n",
       "      <td>Khushboo Priya</td>\n",
       "      <td>30-Jul-22</td>\n",
       "      <td>15:06:59</td>\n",
       "      <td>15:07:16</td>\n",
       "      <td>00:00:17</td>\n",
       "    </tr>\n",
       "    <tr>\n",
       "      <th>2</th>\n",
       "      <td>3</td>\n",
       "      <td>Nandani Gupta</td>\n",
       "      <td>30-Jul-22</td>\n",
       "      <td>15:04:24</td>\n",
       "      <td>17:31:07</td>\n",
       "      <td>02:26:42</td>\n",
       "    </tr>\n",
       "    <tr>\n",
       "      <th>3</th>\n",
       "      <td>4</td>\n",
       "      <td>Hrisikesh Neogi</td>\n",
       "      <td>30-Jul-22</td>\n",
       "      <td>14:34:29</td>\n",
       "      <td>15:19:35</td>\n",
       "      <td>00:45:06</td>\n",
       "    </tr>\n",
       "    <tr>\n",
       "      <th>4</th>\n",
       "      <td>5</td>\n",
       "      <td>Mukesh</td>\n",
       "      <td>30-Jul-22</td>\n",
       "      <td>14:03:15</td>\n",
       "      <td>15:11:52</td>\n",
       "      <td>01:08:36</td>\n",
       "    </tr>\n",
       "    <tr>\n",
       "      <th>...</th>\n",
       "      <td>...</td>\n",
       "      <td>...</td>\n",
       "      <td>...</td>\n",
       "      <td>...</td>\n",
       "      <td>...</td>\n",
       "      <td>...</td>\n",
       "    </tr>\n",
       "    <tr>\n",
       "      <th>995</th>\n",
       "      <td>996</td>\n",
       "      <td>Manjunatha A</td>\n",
       "      <td>20-Jul-22</td>\n",
       "      <td>09:03:51</td>\n",
       "      <td>15:02:28</td>\n",
       "      <td>05:58:37</td>\n",
       "    </tr>\n",
       "    <tr>\n",
       "      <th>996</th>\n",
       "      <td>997</td>\n",
       "      <td>Bharath</td>\n",
       "      <td>20-Jul-22</td>\n",
       "      <td>09:00:49</td>\n",
       "      <td>15:01:32</td>\n",
       "      <td>06:00:43</td>\n",
       "    </tr>\n",
       "    <tr>\n",
       "      <th>997</th>\n",
       "      <td>998</td>\n",
       "      <td>Khushboo Priya</td>\n",
       "      <td>20-Jul-22</td>\n",
       "      <td>08:59:20</td>\n",
       "      <td>14:26:55</td>\n",
       "      <td>05:27:34</td>\n",
       "    </tr>\n",
       "    <tr>\n",
       "      <th>998</th>\n",
       "      <td>999</td>\n",
       "      <td>Nishtha Jain</td>\n",
       "      <td>20-Jul-22</td>\n",
       "      <td>08:43:55</td>\n",
       "      <td>14:00:33</td>\n",
       "      <td>05:16:38</td>\n",
       "    </tr>\n",
       "    <tr>\n",
       "      <th>999</th>\n",
       "      <td>1000</td>\n",
       "      <td>Tarun</td>\n",
       "      <td>01-Jul-22</td>\n",
       "      <td>01:52:47</td>\n",
       "      <td>12:01:07</td>\n",
       "      <td>514:08:20</td>\n",
       "    </tr>\n",
       "  </tbody>\n",
       "</table>\n",
       "<p>1000 rows × 6 columns</p>\n",
       "</div>"
      ],
      "text/plain": [
       "     SL No               Agent       Date Login_Time Logout_Time   Duration\n",
       "0        1  Shivananda Sonwane  30-Jul-22   15:35:29    17:39:39   02:04:10\n",
       "1        2      Khushboo Priya  30-Jul-22   15:06:59    15:07:16   00:00:17\n",
       "2        3       Nandani Gupta  30-Jul-22   15:04:24    17:31:07   02:26:42\n",
       "3        4     Hrisikesh Neogi  30-Jul-22   14:34:29    15:19:35   00:45:06\n",
       "4        5              Mukesh  30-Jul-22   14:03:15    15:11:52   01:08:36\n",
       "..     ...                 ...        ...        ...         ...        ...\n",
       "995    996        Manjunatha A  20-Jul-22   09:03:51    15:02:28   05:58:37\n",
       "996    997             Bharath  20-Jul-22   09:00:49    15:01:32   06:00:43\n",
       "997    998      Khushboo Priya  20-Jul-22   08:59:20    14:26:55   05:27:34\n",
       "998    999        Nishtha Jain  20-Jul-22   08:43:55    14:00:33   05:16:38\n",
       "999   1000               Tarun  01-Jul-22   01:52:47    12:01:07  514:08:20\n",
       "\n",
       "[1000 rows x 6 columns]"
      ]
     },
     "execution_count": 5,
     "metadata": {},
     "output_type": "execute_result"
    }
   ],
   "source": [
    "rpt"
   ]
  },
  {
   "cell_type": "code",
   "execution_count": 6,
   "id": "7c637f9b",
   "metadata": {},
   "outputs": [
    {
     "data": {
      "text/html": [
       "<div>\n",
       "<style scoped>\n",
       "    .dataframe tbody tr th:only-of-type {\n",
       "        vertical-align: middle;\n",
       "    }\n",
       "\n",
       "    .dataframe tbody tr th {\n",
       "        vertical-align: top;\n",
       "    }\n",
       "\n",
       "    .dataframe thead th {\n",
       "        text-align: right;\n",
       "    }\n",
       "</style>\n",
       "<table border=\"1\" class=\"dataframe\">\n",
       "  <thead>\n",
       "    <tr style=\"text-align: right;\">\n",
       "      <th></th>\n",
       "      <th>SL_No</th>\n",
       "      <th>Date</th>\n",
       "      <th>Agent_Name</th>\n",
       "      <th>Total_Chats</th>\n",
       "      <th>Average_Response_Time</th>\n",
       "      <th>Average_Resolution_Time</th>\n",
       "      <th>Average_Rating</th>\n",
       "      <th>Total_Feedback</th>\n",
       "    </tr>\n",
       "  </thead>\n",
       "  <tbody>\n",
       "    <tr>\n",
       "      <th>0</th>\n",
       "      <td>1</td>\n",
       "      <td>7/30/2022</td>\n",
       "      <td>Prerna Singh</td>\n",
       "      <td>11</td>\n",
       "      <td>00:00:38</td>\n",
       "      <td>00:04:20</td>\n",
       "      <td>4.11</td>\n",
       "      <td>9</td>\n",
       "    </tr>\n",
       "    <tr>\n",
       "      <th>1</th>\n",
       "      <td>2</td>\n",
       "      <td>7/30/2022</td>\n",
       "      <td>Nandani Gupta</td>\n",
       "      <td>11</td>\n",
       "      <td>00:01:15</td>\n",
       "      <td>00:28:25</td>\n",
       "      <td>4.50</td>\n",
       "      <td>7</td>\n",
       "    </tr>\n",
       "    <tr>\n",
       "      <th>2</th>\n",
       "      <td>3</td>\n",
       "      <td>7/30/2022</td>\n",
       "      <td>Ameya Jain</td>\n",
       "      <td>14</td>\n",
       "      <td>00:00:30</td>\n",
       "      <td>00:11:36</td>\n",
       "      <td>4.55</td>\n",
       "      <td>11</td>\n",
       "    </tr>\n",
       "    <tr>\n",
       "      <th>3</th>\n",
       "      <td>4</td>\n",
       "      <td>7/30/2022</td>\n",
       "      <td>Mahesh Sarade</td>\n",
       "      <td>14</td>\n",
       "      <td>00:01:04</td>\n",
       "      <td>00:15:46</td>\n",
       "      <td>4.71</td>\n",
       "      <td>7</td>\n",
       "    </tr>\n",
       "    <tr>\n",
       "      <th>4</th>\n",
       "      <td>5</td>\n",
       "      <td>7/30/2022</td>\n",
       "      <td>Swati</td>\n",
       "      <td>14</td>\n",
       "      <td>00:01:11</td>\n",
       "      <td>00:16:33</td>\n",
       "      <td>3.67</td>\n",
       "      <td>6</td>\n",
       "    </tr>\n",
       "    <tr>\n",
       "      <th>...</th>\n",
       "      <td>...</td>\n",
       "      <td>...</td>\n",
       "      <td>...</td>\n",
       "      <td>...</td>\n",
       "      <td>...</td>\n",
       "      <td>...</td>\n",
       "      <td>...</td>\n",
       "      <td>...</td>\n",
       "    </tr>\n",
       "    <tr>\n",
       "      <th>2155</th>\n",
       "      <td>2156</td>\n",
       "      <td>07-01-2022</td>\n",
       "      <td>Sowmiya Sivakumar</td>\n",
       "      <td>0</td>\n",
       "      <td>00:00:00</td>\n",
       "      <td>00:00:00</td>\n",
       "      <td>0.00</td>\n",
       "      <td>0</td>\n",
       "    </tr>\n",
       "    <tr>\n",
       "      <th>2156</th>\n",
       "      <td>2157</td>\n",
       "      <td>07-01-2022</td>\n",
       "      <td>Nitin M</td>\n",
       "      <td>0</td>\n",
       "      <td>00:00:00</td>\n",
       "      <td>00:00:00</td>\n",
       "      <td>0.00</td>\n",
       "      <td>0</td>\n",
       "    </tr>\n",
       "    <tr>\n",
       "      <th>2157</th>\n",
       "      <td>2158</td>\n",
       "      <td>07-01-2022</td>\n",
       "      <td>Vivek</td>\n",
       "      <td>0</td>\n",
       "      <td>00:00:00</td>\n",
       "      <td>00:00:00</td>\n",
       "      <td>0.00</td>\n",
       "      <td>0</td>\n",
       "    </tr>\n",
       "    <tr>\n",
       "      <th>2158</th>\n",
       "      <td>2159</td>\n",
       "      <td>07-01-2022</td>\n",
       "      <td>Ayushi Mishra</td>\n",
       "      <td>0</td>\n",
       "      <td>00:00:00</td>\n",
       "      <td>00:00:00</td>\n",
       "      <td>0.00</td>\n",
       "      <td>0</td>\n",
       "    </tr>\n",
       "    <tr>\n",
       "      <th>2159</th>\n",
       "      <td>2160</td>\n",
       "      <td>07-01-2022</td>\n",
       "      <td>Chaitra K Hiremath</td>\n",
       "      <td>0</td>\n",
       "      <td>00:00:00</td>\n",
       "      <td>00:00:00</td>\n",
       "      <td>0.00</td>\n",
       "      <td>0</td>\n",
       "    </tr>\n",
       "  </tbody>\n",
       "</table>\n",
       "<p>2160 rows × 8 columns</p>\n",
       "</div>"
      ],
      "text/plain": [
       "      SL_No        Date          Agent_Name  Total_Chats  \\\n",
       "0         1   7/30/2022        Prerna Singh           11   \n",
       "1         2   7/30/2022       Nandani Gupta           11   \n",
       "2         3   7/30/2022          Ameya Jain           14   \n",
       "3         4   7/30/2022       Mahesh Sarade           14   \n",
       "4         5   7/30/2022              Swati            14   \n",
       "...     ...         ...                 ...          ...   \n",
       "2155   2156  07-01-2022   Sowmiya Sivakumar            0   \n",
       "2156   2157  07-01-2022             Nitin M            0   \n",
       "2157   2158  07-01-2022              Vivek             0   \n",
       "2158   2159  07-01-2022       Ayushi Mishra            0   \n",
       "2159   2160  07-01-2022  Chaitra K Hiremath            0   \n",
       "\n",
       "     Average_Response_Time Average_Resolution_Time  Average_Rating  \\\n",
       "0                 00:00:38                00:04:20            4.11   \n",
       "1                 00:01:15                00:28:25            4.50   \n",
       "2                 00:00:30                00:11:36            4.55   \n",
       "3                 00:01:04                00:15:46            4.71   \n",
       "4                 00:01:11                00:16:33            3.67   \n",
       "...                    ...                     ...             ...   \n",
       "2155              00:00:00                00:00:00            0.00   \n",
       "2156              00:00:00                00:00:00            0.00   \n",
       "2157              00:00:00                00:00:00            0.00   \n",
       "2158              00:00:00                00:00:00            0.00   \n",
       "2159              00:00:00                00:00:00            0.00   \n",
       "\n",
       "      Total_Feedback  \n",
       "0                  9  \n",
       "1                  7  \n",
       "2                 11  \n",
       "3                  7  \n",
       "4                  6  \n",
       "...              ...  \n",
       "2155               0  \n",
       "2156               0  \n",
       "2157               0  \n",
       "2158               0  \n",
       "2159               0  \n",
       "\n",
       "[2160 rows x 8 columns]"
      ]
     },
     "execution_count": 6,
     "metadata": {},
     "output_type": "execute_result"
    }
   ],
   "source": [
    "prfm"
   ]
  },
  {
   "cell_type": "code",
   "execution_count": 6,
   "id": "1e737dfc",
   "metadata": {},
   "outputs": [],
   "source": [
    "# 1 .Find out there avarage rating on weekly basis keep this in a mind that they take two days of leave"
   ]
  },
  {
   "cell_type": "code",
   "execution_count": 7,
   "id": "0019b451",
   "metadata": {},
   "outputs": [],
   "source": [
    "prfm['date_time']= pd.to_datetime(prfm['Date'])"
   ]
  },
  {
   "cell_type": "code",
   "execution_count": 8,
   "id": "d3cc6839",
   "metadata": {},
   "outputs": [
    {
     "data": {
      "text/plain": [
       "Index(['SL_No', 'Date', 'Agent_Name', 'Total_Chats', 'Average_Response_Time',\n",
       "       'Average_Resolution_Time', 'Average_Rating', 'Total_Feedback',\n",
       "       'date_time'],\n",
       "      dtype='object')"
      ]
     },
     "execution_count": 8,
     "metadata": {},
     "output_type": "execute_result"
    }
   ],
   "source": [
    "prfm.columns"
   ]
  },
  {
   "cell_type": "code",
   "execution_count": 9,
   "id": "024c89ce",
   "metadata": {},
   "outputs": [
    {
     "name": "stderr",
     "output_type": "stream",
     "text": [
      "C:\\Users\\PRABHA~1\\AppData\\Local\\Temp/ipykernel_9456/1674658737.py:1: FutureWarning: Series.dt.weekofyear and Series.dt.week have been deprecated.  Please use Series.dt.isocalendar().week instead.\n",
      "  prfm['week_of_yerr']=prfm['date_time'].dt.weekofyear\n"
     ]
    }
   ],
   "source": [
    "prfm['week_of_yerr']=prfm['date_time'].dt.weekofyear"
   ]
  },
  {
   "cell_type": "code",
   "execution_count": 10,
   "id": "bff82f6c",
   "metadata": {},
   "outputs": [
    {
     "data": {
      "text/plain": [
       "Index(['SL_No', 'Date', 'Agent_Name', 'Total_Chats', 'Average_Response_Time',\n",
       "       'Average_Resolution_Time', 'Average_Rating', 'Total_Feedback',\n",
       "       'date_time', 'week_of_yerr'],\n",
       "      dtype='object')"
      ]
     },
     "execution_count": 10,
     "metadata": {},
     "output_type": "execute_result"
    }
   ],
   "source": [
    "prfm.columns"
   ]
  },
  {
   "cell_type": "code",
   "execution_count": 11,
   "id": "1545f901",
   "metadata": {},
   "outputs": [
    {
     "data": {
      "text/plain": [
       "week_of_yerr\n",
       "26    0.998704\n",
       "27    1.386647\n",
       "28    1.548492\n",
       "29    1.511389\n",
       "30    1.620995\n",
       "Name: Average_Rating, dtype: float64"
      ]
     },
     "execution_count": 11,
     "metadata": {},
     "output_type": "execute_result"
    }
   ],
   "source": [
    "prfm.groupby('week_of_yerr')['Average_Rating'].mean()"
   ]
  },
  {
   "cell_type": "code",
   "execution_count": 12,
   "id": "5d52ae8f",
   "metadata": {},
   "outputs": [
    {
     "data": {
      "text/plain": [
       "Rishav Dash       60\n",
       "Ashish            60\n",
       "Sandipan Saha     30\n",
       "Anurag Tiwari     30\n",
       "Zeeshan           30\n",
       "                  ..\n",
       "Saurabh Shukla    30\n",
       "Wasim             30\n",
       "Samprit           30\n",
       "Maitry            30\n",
       "Jawala Prakash    30\n",
       "Name: Agent_Name, Length: 70, dtype: int64"
      ]
     },
     "execution_count": 12,
     "metadata": {},
     "output_type": "execute_result"
    }
   ],
   "source": [
    "# 2 .Total working days for each agents \n",
    "prfm['Agent_Name'].value_counts()\n"
   ]
  },
  {
   "cell_type": "code",
   "execution_count": 13,
   "id": "e0275d90",
   "metadata": {},
   "outputs": [],
   "source": [
    "# 3. Total query that you hvae taken \n",
    "# 4. total Feedback that you have received \n",
    "# 5. a agent name who have average rating between 3.5 to 4 \n",
    "# 6 . Agent name who have rating lesss then 3.5 \n",
    "# 7 . agent name who have rating more then 4.5 \n",
    "# 8 . how many feedaback agents have received more then 4.5 average\n",
    "# 9 . average weekly response time for each agent \n",
    "# 10 . average weekely resolution time for each agents \n",
    "# 11 . list of all agents name \n",
    "# 12 . percentage of chat on which they have received a feedback \n",
    "# 13 . Total contributation hour for each and every agents weekly basis \n",
    "# 14. total percentage of active hour for a month "
   ]
  },
  {
   "cell_type": "code",
   "execution_count": 14,
   "id": "30a1859c",
   "metadata": {},
   "outputs": [
    {
     "ename": "TypeError",
     "evalue": "query() missing 1 required positional argument: 'expr'",
     "output_type": "error",
     "traceback": [
      "\u001b[1;31m---------------------------------------------------------------------------\u001b[0m",
      "\u001b[1;31mTypeError\u001b[0m                                 Traceback (most recent call last)",
      "\u001b[1;32mC:\\Users\\PRABHA~1\\AppData\\Local\\Temp/ipykernel_9456/1001446209.py\u001b[0m in \u001b[0;36m<module>\u001b[1;34m\u001b[0m\n\u001b[0;32m      1\u001b[0m \u001b[1;31m# 3. Total query that you hvae taken\u001b[0m\u001b[1;33m\u001b[0m\u001b[1;33m\u001b[0m\u001b[0m\n\u001b[1;32m----> 2\u001b[1;33m \u001b[0mprfm\u001b[0m\u001b[1;33m.\u001b[0m\u001b[0mquery\u001b[0m\u001b[1;33m(\u001b[0m\u001b[1;33m)\u001b[0m\u001b[1;33m\u001b[0m\u001b[1;33m\u001b[0m\u001b[0m\n\u001b[0m",
      "\u001b[1;31mTypeError\u001b[0m: query() missing 1 required positional argument: 'expr'"
     ]
    }
   ],
   "source": [
    "# 3. Total query that you hvae taken \n",
    "prfm.query()"
   ]
  },
  {
   "cell_type": "code",
   "execution_count": 15,
   "id": "ab81de8e",
   "metadata": {},
   "outputs": [
    {
     "name": "stdout",
     "output_type": "stream",
     "text": [
      "731\n"
     ]
    }
   ],
   "source": [
    "# 4. total Feedback that you have received \n",
    "count=0\n",
    "for i in  prfm.Total_Feedback:\n",
    "    if i > 0 :\n",
    "        count = count+1\n",
    "print(count)  "
   ]
  },
  {
   "cell_type": "code",
   "execution_count": 16,
   "id": "191bebed",
   "metadata": {},
   "outputs": [
    {
     "data": {
      "text/plain": [
       "Total_Feedback\n",
       "False             1429\n",
       "True               731\n",
       "dtype: int64"
      ]
     },
     "execution_count": 16,
     "metadata": {},
     "output_type": "execute_result"
    }
   ],
   "source": [
    "prfm.value_counts([prfm.Total_Feedback>0])"
   ]
  },
  {
   "cell_type": "code",
   "execution_count": 17,
   "id": "8472a43b",
   "metadata": {},
   "outputs": [
    {
     "data": {
      "text/plain": [
       "4                    Swati \n",
       "10             Manjunatha A\n",
       "76            Prateek _iot \n",
       "78            Nandani Gupta\n",
       "80            Jaydeep Dixit\n",
       "               ...         \n",
       "1869    Boktiar Ahmed Bappy\n",
       "1874          Ayushi Mishra\n",
       "1941         Jawala Prakash\n",
       "2021          Aditya Shinde\n",
       "2023       Deepranjan Gupta\n",
       "Name: Agent_Name, Length: 78, dtype: object"
      ]
     },
     "execution_count": 17,
     "metadata": {},
     "output_type": "execute_result"
    }
   ],
   "source": [
    "# 5. a agent name who have average rating between 3.5 to 4 \n",
    "prfm[(prfm.Average_Rating>3.5) & (prfm.Average_Rating<4) ].Agent_Name"
   ]
  },
  {
   "cell_type": "code",
   "execution_count": 18,
   "id": "6e1df109",
   "metadata": {},
   "outputs": [
    {
     "data": {
      "text/plain": [
       "Index(['SL_No', 'Date', 'Agent_Name', 'Total_Chats', 'Average_Response_Time',\n",
       "       'Average_Resolution_Time', 'Average_Rating', 'Total_Feedback',\n",
       "       'date_time', 'week_of_yerr'],\n",
       "      dtype='object')"
      ]
     },
     "execution_count": 18,
     "metadata": {},
     "output_type": "execute_result"
    }
   ],
   "source": [
    "prfm.columns"
   ]
  },
  {
   "cell_type": "code",
   "execution_count": 19,
   "id": "9dadbbd6",
   "metadata": {},
   "outputs": [
    {
     "data": {
      "text/plain": [
       "19        Hitesh Choudhary\n",
       "20              Sanjeevan \n",
       "21                Anirudh \n",
       "22        Shiva Srivastava\n",
       "23              Dibyanshu \n",
       "               ...        \n",
       "2155     Sowmiya Sivakumar\n",
       "2156               Nitin M\n",
       "2157                Vivek \n",
       "2158         Ayushi Mishra\n",
       "2159    Chaitra K Hiremath\n",
       "Name: Agent_Name, Length: 1473, dtype: object"
      ]
     },
     "execution_count": 19,
     "metadata": {},
     "output_type": "execute_result"
    }
   ],
   "source": [
    "# 6 . Agent name who have rating lesss then 3.5 \n",
    "prfm[prfm.Average_Rating<3.5 ].Agent_Name"
   ]
  },
  {
   "cell_type": "code",
   "execution_count": 20,
   "id": "e22235e2",
   "metadata": {},
   "outputs": [
    {
     "data": {
      "text/plain": [
       "2               Ameya Jain\n",
       "3            Mahesh Sarade\n",
       "5                  Mukesh \n",
       "6          Saikumarreddy N\n",
       "7            Sanjeev Kumar\n",
       "               ...        \n",
       "2100        Shubham Sharma\n",
       "2101         Jaydeep Dixit\n",
       "2102    Shivananda Sonwane\n",
       "2103        Khushboo Priya\n",
       "2104       Hrisikesh Neogi\n",
       "Name: Agent_Name, Length: 307, dtype: object"
      ]
     },
     "execution_count": 20,
     "metadata": {},
     "output_type": "execute_result"
    }
   ],
   "source": [
    "# 7 . agent name who have rating more then 4.5 \n",
    "prfm[prfm.Average_Rating>4.5 ].Agent_Name"
   ]
  },
  {
   "cell_type": "code",
   "execution_count": 21,
   "id": "f76cabbb",
   "metadata": {},
   "outputs": [],
   "source": [
    "# 8 . how many feedaback agents have received more then 4.5 average\n",
    "# 9 . average weekly response time for each agent \n",
    "# 10 . average weekely resolution time for each agents \n",
    "# 11 . list of all agents name \n",
    "# 12 . percentage of chat on which they have received a feedback \n",
    "# 13 . Total contributation hour for each and every agents weekly basis \n",
    "# 14. total percentage of active hour for a month "
   ]
  },
  {
   "cell_type": "code",
   "execution_count": 22,
   "id": "909189e5",
   "metadata": {},
   "outputs": [
    {
     "data": {
      "text/plain": [
       "Average_Rating\n",
       "False             1853\n",
       "True               307\n",
       "dtype: int64"
      ]
     },
     "execution_count": 22,
     "metadata": {},
     "output_type": "execute_result"
    }
   ],
   "source": [
    "# 8 . how many feedaback agents have received more then 4.5 average\n",
    "prfm.value_counts([prfm.Average_Rating >4.5] )"
   ]
  },
  {
   "cell_type": "code",
   "execution_count": 30,
   "id": "c7b8bde7",
   "metadata": {},
   "outputs": [
    {
     "data": {
      "text/html": [
       "<div>\n",
       "<style scoped>\n",
       "    .dataframe tbody tr th:only-of-type {\n",
       "        vertical-align: middle;\n",
       "    }\n",
       "\n",
       "    .dataframe tbody tr th {\n",
       "        vertical-align: top;\n",
       "    }\n",
       "\n",
       "    .dataframe thead th {\n",
       "        text-align: right;\n",
       "    }\n",
       "</style>\n",
       "<table border=\"1\" class=\"dataframe\">\n",
       "  <thead>\n",
       "    <tr style=\"text-align: right;\">\n",
       "      <th></th>\n",
       "      <th>SL_No</th>\n",
       "      <th>Date</th>\n",
       "      <th>Agent_Name</th>\n",
       "      <th>Total_Chats</th>\n",
       "      <th>Average_Response_Time</th>\n",
       "      <th>Average_Resolution_Time</th>\n",
       "      <th>Average_Rating</th>\n",
       "      <th>Total_Feedback</th>\n",
       "      <th>date_time</th>\n",
       "      <th>week_of_yerr</th>\n",
       "    </tr>\n",
       "  </thead>\n",
       "  <tbody>\n",
       "    <tr>\n",
       "      <th>0</th>\n",
       "      <td>1</td>\n",
       "      <td>7/30/2022</td>\n",
       "      <td>Prerna Singh</td>\n",
       "      <td>11</td>\n",
       "      <td>00:00:38</td>\n",
       "      <td>00:04:20</td>\n",
       "      <td>4.11</td>\n",
       "      <td>9</td>\n",
       "      <td>2022-07-30</td>\n",
       "      <td>30</td>\n",
       "    </tr>\n",
       "    <tr>\n",
       "      <th>1</th>\n",
       "      <td>2</td>\n",
       "      <td>7/30/2022</td>\n",
       "      <td>Nandani Gupta</td>\n",
       "      <td>11</td>\n",
       "      <td>00:01:15</td>\n",
       "      <td>00:28:25</td>\n",
       "      <td>4.50</td>\n",
       "      <td>7</td>\n",
       "      <td>2022-07-30</td>\n",
       "      <td>30</td>\n",
       "    </tr>\n",
       "    <tr>\n",
       "      <th>2</th>\n",
       "      <td>3</td>\n",
       "      <td>7/30/2022</td>\n",
       "      <td>Ameya Jain</td>\n",
       "      <td>14</td>\n",
       "      <td>00:00:30</td>\n",
       "      <td>00:11:36</td>\n",
       "      <td>4.55</td>\n",
       "      <td>11</td>\n",
       "      <td>2022-07-30</td>\n",
       "      <td>30</td>\n",
       "    </tr>\n",
       "    <tr>\n",
       "      <th>3</th>\n",
       "      <td>4</td>\n",
       "      <td>7/30/2022</td>\n",
       "      <td>Mahesh Sarade</td>\n",
       "      <td>14</td>\n",
       "      <td>00:01:04</td>\n",
       "      <td>00:15:46</td>\n",
       "      <td>4.71</td>\n",
       "      <td>7</td>\n",
       "      <td>2022-07-30</td>\n",
       "      <td>30</td>\n",
       "    </tr>\n",
       "    <tr>\n",
       "      <th>4</th>\n",
       "      <td>5</td>\n",
       "      <td>7/30/2022</td>\n",
       "      <td>Swati</td>\n",
       "      <td>14</td>\n",
       "      <td>00:01:11</td>\n",
       "      <td>00:16:33</td>\n",
       "      <td>3.67</td>\n",
       "      <td>6</td>\n",
       "      <td>2022-07-30</td>\n",
       "      <td>30</td>\n",
       "    </tr>\n",
       "    <tr>\n",
       "      <th>...</th>\n",
       "      <td>...</td>\n",
       "      <td>...</td>\n",
       "      <td>...</td>\n",
       "      <td>...</td>\n",
       "      <td>...</td>\n",
       "      <td>...</td>\n",
       "      <td>...</td>\n",
       "      <td>...</td>\n",
       "      <td>...</td>\n",
       "      <td>...</td>\n",
       "    </tr>\n",
       "    <tr>\n",
       "      <th>2155</th>\n",
       "      <td>2156</td>\n",
       "      <td>07-01-2022</td>\n",
       "      <td>Sowmiya Sivakumar</td>\n",
       "      <td>0</td>\n",
       "      <td>00:00:00</td>\n",
       "      <td>00:00:00</td>\n",
       "      <td>0.00</td>\n",
       "      <td>0</td>\n",
       "      <td>2022-07-01</td>\n",
       "      <td>26</td>\n",
       "    </tr>\n",
       "    <tr>\n",
       "      <th>2156</th>\n",
       "      <td>2157</td>\n",
       "      <td>07-01-2022</td>\n",
       "      <td>Nitin M</td>\n",
       "      <td>0</td>\n",
       "      <td>00:00:00</td>\n",
       "      <td>00:00:00</td>\n",
       "      <td>0.00</td>\n",
       "      <td>0</td>\n",
       "      <td>2022-07-01</td>\n",
       "      <td>26</td>\n",
       "    </tr>\n",
       "    <tr>\n",
       "      <th>2157</th>\n",
       "      <td>2158</td>\n",
       "      <td>07-01-2022</td>\n",
       "      <td>Vivek</td>\n",
       "      <td>0</td>\n",
       "      <td>00:00:00</td>\n",
       "      <td>00:00:00</td>\n",
       "      <td>0.00</td>\n",
       "      <td>0</td>\n",
       "      <td>2022-07-01</td>\n",
       "      <td>26</td>\n",
       "    </tr>\n",
       "    <tr>\n",
       "      <th>2158</th>\n",
       "      <td>2159</td>\n",
       "      <td>07-01-2022</td>\n",
       "      <td>Ayushi Mishra</td>\n",
       "      <td>0</td>\n",
       "      <td>00:00:00</td>\n",
       "      <td>00:00:00</td>\n",
       "      <td>0.00</td>\n",
       "      <td>0</td>\n",
       "      <td>2022-07-01</td>\n",
       "      <td>26</td>\n",
       "    </tr>\n",
       "    <tr>\n",
       "      <th>2159</th>\n",
       "      <td>2160</td>\n",
       "      <td>07-01-2022</td>\n",
       "      <td>Chaitra K Hiremath</td>\n",
       "      <td>0</td>\n",
       "      <td>00:00:00</td>\n",
       "      <td>00:00:00</td>\n",
       "      <td>0.00</td>\n",
       "      <td>0</td>\n",
       "      <td>2022-07-01</td>\n",
       "      <td>26</td>\n",
       "    </tr>\n",
       "  </tbody>\n",
       "</table>\n",
       "<p>2160 rows × 10 columns</p>\n",
       "</div>"
      ],
      "text/plain": [
       "      SL_No        Date          Agent_Name  Total_Chats  \\\n",
       "0         1   7/30/2022        Prerna Singh           11   \n",
       "1         2   7/30/2022       Nandani Gupta           11   \n",
       "2         3   7/30/2022          Ameya Jain           14   \n",
       "3         4   7/30/2022       Mahesh Sarade           14   \n",
       "4         5   7/30/2022              Swati            14   \n",
       "...     ...         ...                 ...          ...   \n",
       "2155   2156  07-01-2022   Sowmiya Sivakumar            0   \n",
       "2156   2157  07-01-2022             Nitin M            0   \n",
       "2157   2158  07-01-2022              Vivek             0   \n",
       "2158   2159  07-01-2022       Ayushi Mishra            0   \n",
       "2159   2160  07-01-2022  Chaitra K Hiremath            0   \n",
       "\n",
       "     Average_Response_Time Average_Resolution_Time  Average_Rating  \\\n",
       "0                 00:00:38                00:04:20            4.11   \n",
       "1                 00:01:15                00:28:25            4.50   \n",
       "2                 00:00:30                00:11:36            4.55   \n",
       "3                 00:01:04                00:15:46            4.71   \n",
       "4                 00:01:11                00:16:33            3.67   \n",
       "...                    ...                     ...             ...   \n",
       "2155              00:00:00                00:00:00            0.00   \n",
       "2156              00:00:00                00:00:00            0.00   \n",
       "2157              00:00:00                00:00:00            0.00   \n",
       "2158              00:00:00                00:00:00            0.00   \n",
       "2159              00:00:00                00:00:00            0.00   \n",
       "\n",
       "      Total_Feedback  date_time  week_of_yerr  \n",
       "0                  9 2022-07-30            30  \n",
       "1                  7 2022-07-30            30  \n",
       "2                 11 2022-07-30            30  \n",
       "3                  7 2022-07-30            30  \n",
       "4                  6 2022-07-30            30  \n",
       "...              ...        ...           ...  \n",
       "2155               0 2022-07-01            26  \n",
       "2156               0 2022-07-01            26  \n",
       "2157               0 2022-07-01            26  \n",
       "2158               0 2022-07-01            26  \n",
       "2159               0 2022-07-01            26  \n",
       "\n",
       "[2160 rows x 10 columns]"
      ]
     },
     "execution_count": 30,
     "metadata": {},
     "output_type": "execute_result"
    }
   ],
   "source": [
    "prfm"
   ]
  },
  {
   "cell_type": "code",
   "execution_count": 31,
   "id": "19fca9e2",
   "metadata": {},
   "outputs": [],
   "source": [
    "# 9 . average weekly response time for each agent \n",
    "prfm['response_time'] = pd.to_datetime(prfm['Average_Response_Time'])"
   ]
  },
  {
   "cell_type": "code",
   "execution_count": 34,
   "id": "6798c0c2",
   "metadata": {},
   "outputs": [],
   "source": [
    "prfm['response_date']= pd.to_datetime(prfm['Date'])"
   ]
  },
  {
   "cell_type": "code",
   "execution_count": 36,
   "id": "373cccaf",
   "metadata": {},
   "outputs": [
    {
     "name": "stderr",
     "output_type": "stream",
     "text": [
      "C:\\Users\\PRABHA~1\\AppData\\Local\\Temp/ipykernel_9456/1883490398.py:1: FutureWarning: Series.dt.weekofyear and Series.dt.week have been deprecated.  Please use Series.dt.isocalendar().week instead.\n",
      "  prfm['response_weak']= prfm['response_date'].dt.weekofyear\n"
     ]
    }
   ],
   "source": [
    "prfm['response_weak']= prfm['response_date'].dt.weekofyear"
   ]
  },
  {
   "cell_type": "code",
   "execution_count": 38,
   "id": "2a68ef75",
   "metadata": {},
   "outputs": [
    {
     "data": {
      "text/html": [
       "<div>\n",
       "<style scoped>\n",
       "    .dataframe tbody tr th:only-of-type {\n",
       "        vertical-align: middle;\n",
       "    }\n",
       "\n",
       "    .dataframe tbody tr th {\n",
       "        vertical-align: top;\n",
       "    }\n",
       "\n",
       "    .dataframe thead th {\n",
       "        text-align: right;\n",
       "    }\n",
       "</style>\n",
       "<table border=\"1\" class=\"dataframe\">\n",
       "  <thead>\n",
       "    <tr style=\"text-align: right;\">\n",
       "      <th></th>\n",
       "      <th>SL_No</th>\n",
       "      <th>Date</th>\n",
       "      <th>Agent_Name</th>\n",
       "      <th>Total_Chats</th>\n",
       "      <th>Average_Response_Time</th>\n",
       "      <th>Average_Resolution_Time</th>\n",
       "      <th>Average_Rating</th>\n",
       "      <th>Total_Feedback</th>\n",
       "      <th>date_time</th>\n",
       "      <th>week_of_yerr</th>\n",
       "      <th>response_time</th>\n",
       "      <th>response_date</th>\n",
       "      <th>response_weak</th>\n",
       "    </tr>\n",
       "  </thead>\n",
       "  <tbody>\n",
       "    <tr>\n",
       "      <th>0</th>\n",
       "      <td>1</td>\n",
       "      <td>7/30/2022</td>\n",
       "      <td>Prerna Singh</td>\n",
       "      <td>11</td>\n",
       "      <td>00:00:38</td>\n",
       "      <td>00:04:20</td>\n",
       "      <td>4.11</td>\n",
       "      <td>9</td>\n",
       "      <td>2022-07-30</td>\n",
       "      <td>30</td>\n",
       "      <td>2022-08-13 00:00:38</td>\n",
       "      <td>2022-07-30</td>\n",
       "      <td>30</td>\n",
       "    </tr>\n",
       "    <tr>\n",
       "      <th>1</th>\n",
       "      <td>2</td>\n",
       "      <td>7/30/2022</td>\n",
       "      <td>Nandani Gupta</td>\n",
       "      <td>11</td>\n",
       "      <td>00:01:15</td>\n",
       "      <td>00:28:25</td>\n",
       "      <td>4.50</td>\n",
       "      <td>7</td>\n",
       "      <td>2022-07-30</td>\n",
       "      <td>30</td>\n",
       "      <td>2022-08-13 00:01:15</td>\n",
       "      <td>2022-07-30</td>\n",
       "      <td>30</td>\n",
       "    </tr>\n",
       "  </tbody>\n",
       "</table>\n",
       "</div>"
      ],
      "text/plain": [
       "   SL_No       Date     Agent_Name  Total_Chats Average_Response_Time  \\\n",
       "0      1  7/30/2022   Prerna Singh           11              00:00:38   \n",
       "1      2  7/30/2022  Nandani Gupta           11              00:01:15   \n",
       "\n",
       "  Average_Resolution_Time  Average_Rating  Total_Feedback  date_time  \\\n",
       "0                00:04:20            4.11               9 2022-07-30   \n",
       "1                00:28:25            4.50               7 2022-07-30   \n",
       "\n",
       "   week_of_yerr       response_time response_date  response_weak  \n",
       "0            30 2022-08-13 00:00:38    2022-07-30             30  \n",
       "1            30 2022-08-13 00:01:15    2022-07-30             30  "
      ]
     },
     "execution_count": 38,
     "metadata": {},
     "output_type": "execute_result"
    }
   ],
   "source": [
    "prfm.head(2)"
   ]
  },
  {
   "cell_type": "code",
   "execution_count": 48,
   "id": "6b164174",
   "metadata": {},
   "outputs": [
    {
     "data": {
      "text/plain": [
       "Agent_Name  response_weak\n",
       "Abhishek    26              2022-08-13 00:00:00.000000000\n",
       "            27              2022-08-13 00:00:00.000000000\n",
       "            28              2022-08-13 00:00:00.000000000\n",
       "            29              2022-08-13 00:00:00.000000000\n",
       "            30              2022-08-13 00:00:00.000000000\n",
       "                                         ...             \n",
       "Zeeshan     26              2022-08-13 00:00:00.000000000\n",
       "            27              2022-08-13 00:00:23.571428608\n",
       "            28              2022-08-13 00:02:03.428571392\n",
       "            29              2022-08-13 00:01:02.857142784\n",
       "            30              2022-08-13 00:01:03.833333504\n",
       "Name: response_time, Length: 350, dtype: datetime64[ns]"
      ]
     },
     "execution_count": 48,
     "metadata": {},
     "output_type": "execute_result"
    }
   ],
   "source": [
    "prfm.groupby(['Agent_Name','response_weak']).response_time.mean()"
   ]
  },
  {
   "cell_type": "code",
   "execution_count": null,
   "id": "a93dd74d",
   "metadata": {},
   "outputs": [],
   "source": [
    "# 11 . list of all agents name \n",
    "# 12 . percentage of chat on which they have received a feedback \n",
    "# 13 . Total contributation hour for each and every agents weekly basis \n",
    "# 14. total percentage of active hour for a month "
   ]
  },
  {
   "cell_type": "code",
   "execution_count": 62,
   "id": "ee865231",
   "metadata": {},
   "outputs": [
    {
     "data": {
      "text/plain": [
       "array(['Prerna Singh', 'Nandani Gupta', 'Ameya Jain', 'Mahesh Sarade',\n",
       "       'Swati ', 'Mukesh ', 'Saikumarreddy N', 'Sanjeev Kumar',\n",
       "       'Shubham Sharma', 'Nishtha Jain', 'Manjunatha A', 'Khushboo Priya',\n",
       "       'Suraj S Bilgi', 'Harikrishnan Shaji', 'Hrisikesh Neogi',\n",
       "       'Shivan K', 'Sowmiya Sivakumar', 'Madhulika G', 'Mithun S',\n",
       "       'Hitesh Choudhary', 'Sanjeevan ', 'Anirudh ', 'Shiva Srivastava',\n",
       "       'Dibyanshu ', 'Ashish ', 'Uday Mishra', 'Aditya Shinde',\n",
       "       'Jayant Kumar', 'Aditya_iot ', 'Prabir Kumar Satapathy',\n",
       "       'Saurabh Shukla', 'Wasim ', 'Samprit ', 'Maitry ', 'Abhishek ',\n",
       "       'Rishav Dash', 'Aravind ', 'Tarun ', 'Muskan Garg', 'Ankit Sharma',\n",
       "       'Bharath ', 'Ashad Nasim', 'Vasanth P', 'Aditya ', 'Amersh ',\n",
       "       'Sandipan Saha', 'Ineuron Intelligence ', 'Mahak ', 'Mukesh Rao ',\n",
       "       'Zeeshan ', 'Anurag Tiwari', 'Ankitjha ', 'Saif Khan',\n",
       "       'Jaydeep Dixit', 'Sudhanshu Kumar', 'Maneesh ', 'Hyder Abbas',\n",
       "       'Rohan ', 'Vivek ', 'Nitin M', 'Shivan_S ', 'Spuri ',\n",
       "       'Ayushi Mishra', 'Chaitra K Hiremath', 'Prateek _iot ',\n",
       "       'Boktiar Ahmed Bappy', 'Shivananda Sonwane', 'Ishawant Kumar',\n",
       "       'Deepranjan Gupta', 'Jawala Prakash'], dtype=object)"
      ]
     },
     "execution_count": 62,
     "metadata": {},
     "output_type": "execute_result"
    }
   ],
   "source": [
    "# 11 . list of all agents name \n",
    "prfm['Agent_Name'].unique()"
   ]
  },
  {
   "cell_type": "code",
   "execution_count": 71,
   "id": "468deff1",
   "metadata": {},
   "outputs": [],
   "source": [
    "# 12 . percentage of chat on which they have received a feedback \n",
    "value=prfm.value_counts([prfm.Total_Chats >0 , prfm.Total_Feedback>0])"
   ]
  },
  {
   "cell_type": "code",
   "execution_count": 72,
   "id": "50fbda2a",
   "metadata": {},
   "outputs": [
    {
     "data": {
      "text/plain": [
       "Total_Chats  Total_Feedback\n",
       "False        False             1415\n",
       "True         True               731\n",
       "             False               14\n",
       "dtype: int64"
      ]
     },
     "execution_count": 72,
     "metadata": {},
     "output_type": "execute_result"
    }
   ],
   "source": [
    "value"
   ]
  },
  {
   "cell_type": "code",
   "execution_count": 73,
   "id": "329a0de7",
   "metadata": {},
   "outputs": [
    {
     "data": {
      "text/plain": [
       "98.12080536912752"
      ]
     },
     "execution_count": 73,
     "metadata": {},
     "output_type": "execute_result"
    }
   ],
   "source": [
    "731/(731+14)*100"
   ]
  },
  {
   "cell_type": "code",
   "execution_count": 74,
   "id": "9133ac49",
   "metadata": {},
   "outputs": [],
   "source": [
    "# 13 . Total contributation hour for each and every agents weekly basis \n",
    "prfm['resolution_time'] = pd.to_datetime(prfm['Average_Resolution_Time'])"
   ]
  },
  {
   "cell_type": "code",
   "execution_count": 75,
   "id": "f42f996e",
   "metadata": {},
   "outputs": [
    {
     "data": {
      "text/html": [
       "<div>\n",
       "<style scoped>\n",
       "    .dataframe tbody tr th:only-of-type {\n",
       "        vertical-align: middle;\n",
       "    }\n",
       "\n",
       "    .dataframe tbody tr th {\n",
       "        vertical-align: top;\n",
       "    }\n",
       "\n",
       "    .dataframe thead th {\n",
       "        text-align: right;\n",
       "    }\n",
       "</style>\n",
       "<table border=\"1\" class=\"dataframe\">\n",
       "  <thead>\n",
       "    <tr style=\"text-align: right;\">\n",
       "      <th></th>\n",
       "      <th>SL_No</th>\n",
       "      <th>Date</th>\n",
       "      <th>Agent_Name</th>\n",
       "      <th>Total_Chats</th>\n",
       "      <th>Average_Response_Time</th>\n",
       "      <th>Average_Resolution_Time</th>\n",
       "      <th>Average_Rating</th>\n",
       "      <th>Total_Feedback</th>\n",
       "      <th>date_time</th>\n",
       "      <th>week_of_yerr</th>\n",
       "      <th>response_time</th>\n",
       "      <th>response_date</th>\n",
       "      <th>response_weak</th>\n",
       "      <th>resolution_time</th>\n",
       "    </tr>\n",
       "  </thead>\n",
       "  <tbody>\n",
       "    <tr>\n",
       "      <th>0</th>\n",
       "      <td>1</td>\n",
       "      <td>7/30/2022</td>\n",
       "      <td>Prerna Singh</td>\n",
       "      <td>11</td>\n",
       "      <td>00:00:38</td>\n",
       "      <td>00:04:20</td>\n",
       "      <td>4.11</td>\n",
       "      <td>9</td>\n",
       "      <td>2022-07-30</td>\n",
       "      <td>30</td>\n",
       "      <td>2022-08-13 00:00:38</td>\n",
       "      <td>2022-07-30</td>\n",
       "      <td>30</td>\n",
       "      <td>2022-08-13 00:04:20</td>\n",
       "    </tr>\n",
       "    <tr>\n",
       "      <th>1</th>\n",
       "      <td>2</td>\n",
       "      <td>7/30/2022</td>\n",
       "      <td>Nandani Gupta</td>\n",
       "      <td>11</td>\n",
       "      <td>00:01:15</td>\n",
       "      <td>00:28:25</td>\n",
       "      <td>4.50</td>\n",
       "      <td>7</td>\n",
       "      <td>2022-07-30</td>\n",
       "      <td>30</td>\n",
       "      <td>2022-08-13 00:01:15</td>\n",
       "      <td>2022-07-30</td>\n",
       "      <td>30</td>\n",
       "      <td>2022-08-13 00:28:25</td>\n",
       "    </tr>\n",
       "    <tr>\n",
       "      <th>2</th>\n",
       "      <td>3</td>\n",
       "      <td>7/30/2022</td>\n",
       "      <td>Ameya Jain</td>\n",
       "      <td>14</td>\n",
       "      <td>00:00:30</td>\n",
       "      <td>00:11:36</td>\n",
       "      <td>4.55</td>\n",
       "      <td>11</td>\n",
       "      <td>2022-07-30</td>\n",
       "      <td>30</td>\n",
       "      <td>2022-08-13 00:00:30</td>\n",
       "      <td>2022-07-30</td>\n",
       "      <td>30</td>\n",
       "      <td>2022-08-13 00:11:36</td>\n",
       "    </tr>\n",
       "    <tr>\n",
       "      <th>3</th>\n",
       "      <td>4</td>\n",
       "      <td>7/30/2022</td>\n",
       "      <td>Mahesh Sarade</td>\n",
       "      <td>14</td>\n",
       "      <td>00:01:04</td>\n",
       "      <td>00:15:46</td>\n",
       "      <td>4.71</td>\n",
       "      <td>7</td>\n",
       "      <td>2022-07-30</td>\n",
       "      <td>30</td>\n",
       "      <td>2022-08-13 00:01:04</td>\n",
       "      <td>2022-07-30</td>\n",
       "      <td>30</td>\n",
       "      <td>2022-08-13 00:15:46</td>\n",
       "    </tr>\n",
       "    <tr>\n",
       "      <th>4</th>\n",
       "      <td>5</td>\n",
       "      <td>7/30/2022</td>\n",
       "      <td>Swati</td>\n",
       "      <td>14</td>\n",
       "      <td>00:01:11</td>\n",
       "      <td>00:16:33</td>\n",
       "      <td>3.67</td>\n",
       "      <td>6</td>\n",
       "      <td>2022-07-30</td>\n",
       "      <td>30</td>\n",
       "      <td>2022-08-13 00:01:11</td>\n",
       "      <td>2022-07-30</td>\n",
       "      <td>30</td>\n",
       "      <td>2022-08-13 00:16:33</td>\n",
       "    </tr>\n",
       "  </tbody>\n",
       "</table>\n",
       "</div>"
      ],
      "text/plain": [
       "   SL_No       Date     Agent_Name  Total_Chats Average_Response_Time  \\\n",
       "0      1  7/30/2022   Prerna Singh           11              00:00:38   \n",
       "1      2  7/30/2022  Nandani Gupta           11              00:01:15   \n",
       "2      3  7/30/2022     Ameya Jain           14              00:00:30   \n",
       "3      4  7/30/2022  Mahesh Sarade           14              00:01:04   \n",
       "4      5  7/30/2022         Swati            14              00:01:11   \n",
       "\n",
       "  Average_Resolution_Time  Average_Rating  Total_Feedback  date_time  \\\n",
       "0                00:04:20            4.11               9 2022-07-30   \n",
       "1                00:28:25            4.50               7 2022-07-30   \n",
       "2                00:11:36            4.55              11 2022-07-30   \n",
       "3                00:15:46            4.71               7 2022-07-30   \n",
       "4                00:16:33            3.67               6 2022-07-30   \n",
       "\n",
       "   week_of_yerr       response_time response_date  response_weak  \\\n",
       "0            30 2022-08-13 00:00:38    2022-07-30             30   \n",
       "1            30 2022-08-13 00:01:15    2022-07-30             30   \n",
       "2            30 2022-08-13 00:00:30    2022-07-30             30   \n",
       "3            30 2022-08-13 00:01:04    2022-07-30             30   \n",
       "4            30 2022-08-13 00:01:11    2022-07-30             30   \n",
       "\n",
       "      resolution_time  \n",
       "0 2022-08-13 00:04:20  \n",
       "1 2022-08-13 00:28:25  \n",
       "2 2022-08-13 00:11:36  \n",
       "3 2022-08-13 00:15:46  \n",
       "4 2022-08-13 00:16:33  "
      ]
     },
     "execution_count": 75,
     "metadata": {},
     "output_type": "execute_result"
    }
   ],
   "source": [
    "prfm.head()"
   ]
  },
  {
   "cell_type": "code",
   "execution_count": null,
   "id": "ce5b4838",
   "metadata": {},
   "outputs": [],
   "source": []
  },
  {
   "cell_type": "code",
   "execution_count": 76,
   "id": "2323ec95",
   "metadata": {},
   "outputs": [
    {
     "data": {
      "text/plain": [
       "Agent_Name  response_weak\n",
       "Abhishek    26              2022-08-13 00:00:00.000000000\n",
       "            27              2022-08-13 00:00:00.000000000\n",
       "            28              2022-08-13 00:00:00.000000000\n",
       "            29              2022-08-13 00:00:00.000000000\n",
       "            30              2022-08-13 00:00:00.000000000\n",
       "                                         ...             \n",
       "Zeeshan     26              2022-08-13 00:00:00.000000000\n",
       "            27              2022-08-13 00:05:23.000000000\n",
       "            28              2022-08-13 00:16:24.285714176\n",
       "            29              2022-08-13 00:13:14.285714176\n",
       "            30              2022-08-13 00:12:53.500000000\n",
       "Name: resolution_time, Length: 350, dtype: datetime64[ns]"
      ]
     },
     "execution_count": 76,
     "metadata": {},
     "output_type": "execute_result"
    }
   ],
   "source": [
    "prfm.groupby(['Agent_Name','response_weak']).resolution_time.mean()"
   ]
  },
  {
   "cell_type": "code",
   "execution_count": 77,
   "id": "46fad0b8",
   "metadata": {},
   "outputs": [],
   "source": [
    "# 14. total percentage of active hour for a month \n"
   ]
  },
  {
   "cell_type": "code",
   "execution_count": null,
   "id": "147d3a99",
   "metadata": {},
   "outputs": [],
   "source": []
  }
 ],
 "metadata": {
  "kernelspec": {
   "display_name": "Python 3 (ipykernel)",
   "language": "python",
   "name": "python3"
  },
  "language_info": {
   "codemirror_mode": {
    "name": "ipython",
    "version": 3
   },
   "file_extension": ".py",
   "mimetype": "text/x-python",
   "name": "python",
   "nbconvert_exporter": "python",
   "pygments_lexer": "ipython3",
   "version": "3.9.7"
  }
 },
 "nbformat": 4,
 "nbformat_minor": 5
}
